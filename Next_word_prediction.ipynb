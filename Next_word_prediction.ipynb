{
  "cells": [
    {
      "cell_type": "markdown",
      "source": [
        "#Importing the required libraries:\n"
      ],
      "metadata": {
        "id": "EIEbrBttxTNw"
      }
    },
    {
      "cell_type": "code",
      "source": [
        "import tensorflow as tf\n",
        "from tensorflow.keras.preprocessing.text import Tokenizer\n",
        "from tensorflow.keras.layers import Embedding, LSTM, Dense\n",
        "from tensorflow.keras.models import Sequential\n",
        "from tensorflow.keras.utils import to_categorical\n",
        "from tensorflow.keras.optimizers import Adam\n",
        "import pickle\n",
        "import numpy as np\n",
        "import os\n"
      ],
      "metadata": {
        "id": "4_Q0VdLFxL0_"
      },
      "execution_count": 1,
      "outputs": []
    },
    {
      "cell_type": "code",
      "source": [
        "file = open(\"metamorphosis_clean.txt\", \"r\", encoding = \"utf8\")\n",
        "lines = []\n",
        "\n",
        "for i in file:\n",
        "    lines.append(i)\n",
        "    \n",
        "print(\"The First Line: \", lines[0])\n",
        "print(\"The Last Line: \", lines[-1])"
      ],
      "metadata": {
        "colab": {
          "base_uri": "https://localhost:8080/"
        },
        "id": "JsENJD2qxjrs",
        "outputId": "d1cd9a16-9967-40c4-93ab-4660b5458ccb"
      },
      "execution_count": 3,
      "outputs": [
        {
          "output_type": "stream",
          "name": "stdout",
          "text": [
            "The First Line:  ﻿One morning, when Gregor Samsa woke from troubled dreams, he found\n",
            "\n",
            "The Last Line:  first to get up and stretch out her young body.\n",
            "\n"
          ]
        }
      ]
    },
    {
      "cell_type": "markdown",
      "source": [
        "#Cleaning the data"
      ],
      "metadata": {
        "id": "uGQCsehHx6Mj"
      }
    },
    {
      "cell_type": "code",
      "source": [
        "data = \"\"\n",
        "\n",
        "for i in lines:\n",
        "    data = ' '. join(lines)\n",
        "    \n",
        "data = data.replace('\\n', '').replace('\\r', '').replace('\\ufeff', '')\n",
        "data[:360]"
      ],
      "metadata": {
        "colab": {
          "base_uri": "https://localhost:8080/",
          "height": 53
        },
        "id": "yMNYJ4ILxt8K",
        "outputId": "eed3f830-3054-439b-d6ef-a719960248a0"
      },
      "execution_count": 4,
      "outputs": [
        {
          "output_type": "execute_result",
          "data": {
            "text/plain": [
              "'One morning, when Gregor Samsa woke from troubled dreams, he found himself transformed in his bed into a horrible vermin.  He lay on his armour-like back, and if he lifted his head a little he could see his brown belly, slightly domed and divided by arches into stiff sections.  The bedding was hardly able to cover it and seemed ready to slide off any moment.'"
            ],
            "application/vnd.google.colaboratory.intrinsic+json": {
              "type": "string"
            }
          },
          "metadata": {},
          "execution_count": 4
        }
      ]
    },
    {
      "cell_type": "code",
      "source": [
        "import string\n",
        "\n",
        "translator = str.maketrans(string.punctuation, ' '*len(string.punctuation)) #map punctuation to space\n",
        "new_data = data.translate(translator)\n",
        "\n",
        "new_data[:500]"
      ],
      "metadata": {
        "colab": {
          "base_uri": "https://localhost:8080/",
          "height": 70
        },
        "id": "bOdi2jW_x5C9",
        "outputId": "a99e6064-d5a5-4408-ef44-9eeb89d517b1"
      },
      "execution_count": 5,
      "outputs": [
        {
          "output_type": "execute_result",
          "data": {
            "text/plain": [
              "'One morning  when Gregor Samsa woke from troubled dreams  he found himself transformed in his bed into a horrible vermin   He lay on his armour like back  and if he lifted his head a little he could see his brown belly  slightly domed and divided by arches into stiff sections   The bedding was hardly able to cover it and seemed ready to slide off any moment   His many legs  pitifully thin compared with the size of the rest of him  waved about helplessly as he looked    What s happened to me   he'"
            ],
            "application/vnd.google.colaboratory.intrinsic+json": {
              "type": "string"
            }
          },
          "metadata": {},
          "execution_count": 5
        }
      ]
    },
    {
      "cell_type": "code",
      "source": [
        "z = []\n",
        "\n",
        "for i in data.split():\n",
        "    if i not in z:\n",
        "        z.append(i)\n",
        "        \n",
        "data = ' '.join(z)\n",
        "data[:500]"
      ],
      "metadata": {
        "colab": {
          "base_uri": "https://localhost:8080/",
          "height": 70
        },
        "id": "oxoSHlfLyFid",
        "outputId": "860eca84-d6d0-4e53-a16c-4829e92d02c2"
      },
      "execution_count": 6,
      "outputs": [
        {
          "output_type": "execute_result",
          "data": {
            "text/plain": [
              "'One morning, when Gregor Samsa woke from troubled dreams, he found himself transformed in his bed into a horrible vermin. He lay on armour-like back, and if lifted head little could see brown belly, slightly domed divided by arches stiff sections. The bedding was hardly able to cover it seemed ready slide off any moment. His many legs, pitifully thin compared with the size of rest him, waved about helplessly as looked. \"What\\'s happened me?\" thought. It wasn\\'t dream. room, proper human room altho'"
            ],
            "application/vnd.google.colaboratory.intrinsic+json": {
              "type": "string"
            }
          },
          "metadata": {},
          "execution_count": 6
        }
      ]
    },
    {
      "cell_type": "markdown",
      "source": [
        "#Tokenization"
      ],
      "metadata": {
        "id": "aNCRpMn6yJdO"
      }
    },
    {
      "cell_type": "code",
      "source": [
        "tokenizer = Tokenizer()\n",
        "tokenizer.fit_on_texts([data])\n",
        "\n",
        "# saving the tokenizer for predict function.\n",
        "pickle.dump(tokenizer, open('tokenizer1.pkl', 'wb'))\n",
        "\n",
        "sequence_data = tokenizer.texts_to_sequences([data])[0]\n",
        "sequence_data[:10]"
      ],
      "metadata": {
        "colab": {
          "base_uri": "https://localhost:8080/"
        },
        "id": "SnWIwM1jyHxW",
        "outputId": "e96c74e4-c795-4422-e36d-51a9e11f903d"
      },
      "execution_count": 7,
      "outputs": [
        {
          "output_type": "execute_result",
          "data": {
            "text/plain": [
              "[17, 53, 293, 2, 18, 729, 135, 730, 294, 8]"
            ]
          },
          "metadata": {},
          "execution_count": 7
        }
      ]
    },
    {
      "cell_type": "code",
      "source": [
        "vocab_size = len(tokenizer.word_index) + 1\n",
        "print(vocab_size)"
      ],
      "metadata": {
        "colab": {
          "base_uri": "https://localhost:8080/"
        },
        "id": "ICg-zw4gyNLh",
        "outputId": "c581c47c-ca0c-4eb1-b81e-12ce46c92e3c"
      },
      "execution_count": 8,
      "outputs": [
        {
          "output_type": "stream",
          "name": "stdout",
          "text": [
            "2617\n"
          ]
        }
      ]
    },
    {
      "cell_type": "code",
      "source": [
        "sequences = []\n",
        "\n",
        "for i in range(1, len(sequence_data)):\n",
        "    words = sequence_data[i-1:i+1]\n",
        "    sequences.append(words)\n",
        "    \n",
        "print(\"The Length of sequences are: \", len(sequences))\n",
        "sequences = np.array(sequences)\n",
        "sequences[:10]"
      ],
      "metadata": {
        "colab": {
          "base_uri": "https://localhost:8080/"
        },
        "id": "AlAfoRxkyO6Y",
        "outputId": "28a6f9f6-7bdc-40fc-a20e-e8b065eeffd6"
      },
      "execution_count": 9,
      "outputs": [
        {
          "output_type": "stream",
          "name": "stdout",
          "text": [
            "The Length of sequences are:  3889\n"
          ]
        },
        {
          "output_type": "execute_result",
          "data": {
            "text/plain": [
              "array([[ 17,  53],\n",
              "       [ 53, 293],\n",
              "       [293,   2],\n",
              "       [  2,  18],\n",
              "       [ 18, 729],\n",
              "       [729, 135],\n",
              "       [135, 730],\n",
              "       [730, 294],\n",
              "       [294,   8],\n",
              "       [  8, 731]])"
            ]
          },
          "metadata": {},
          "execution_count": 9
        }
      ]
    },
    {
      "cell_type": "code",
      "source": [
        "X = []\n",
        "y = []\n",
        "\n",
        "for i in sequences:\n",
        "    X.append(i[0])\n",
        "    y.append(i[1])\n",
        "    \n",
        "X = np.array(X)\n",
        "y = np.array(y)"
      ],
      "metadata": {
        "id": "H10kWEvIyQ9g"
      },
      "execution_count": 10,
      "outputs": []
    },
    {
      "cell_type": "code",
      "source": [
        "print(\"The Data is: \", X[:5])\n",
        "print(\"The responses are: \", y[:5])"
      ],
      "metadata": {
        "colab": {
          "base_uri": "https://localhost:8080/"
        },
        "id": "rBg7qOJKyTIQ",
        "outputId": "3fdf2f1c-3575-4dfa-b352-d3385c3d0109"
      },
      "execution_count": 11,
      "outputs": [
        {
          "output_type": "stream",
          "name": "stdout",
          "text": [
            "The Data is:  [ 17  53 293   2  18]\n",
            "The responses are:  [ 53 293   2  18 729]\n"
          ]
        }
      ]
    },
    {
      "cell_type": "code",
      "source": [
        "y = to_categorical(y, num_classes=vocab_size)\n",
        "y[:5]"
      ],
      "metadata": {
        "colab": {
          "base_uri": "https://localhost:8080/"
        },
        "id": "fJifAJ0uyU83",
        "outputId": "3b5f8c76-5931-455f-ce16-120b02995a1b"
      },
      "execution_count": 12,
      "outputs": [
        {
          "output_type": "execute_result",
          "data": {
            "text/plain": [
              "array([[0., 0., 0., ..., 0., 0., 0.],\n",
              "       [0., 0., 0., ..., 0., 0., 0.],\n",
              "       [0., 0., 1., ..., 0., 0., 0.],\n",
              "       [0., 0., 0., ..., 0., 0., 0.],\n",
              "       [0., 0., 0., ..., 0., 0., 0.]], dtype=float32)"
            ]
          },
          "metadata": {},
          "execution_count": 12
        }
      ]
    },
    {
      "cell_type": "markdown",
      "source": [
        "#creating the model"
      ],
      "metadata": {
        "id": "Tm3CNNtXyY4Z"
      }
    },
    {
      "cell_type": "code",
      "source": [
        "model = Sequential()\n",
        "model.add(Embedding(vocab_size, 10, input_length=1))\n",
        "model.add(LSTM(1000, return_sequences=True))\n",
        "model.add(LSTM(1000))\n",
        "model.add(Dense(1000, activation=\"relu\"))\n",
        "model.add(Dense(vocab_size, activation=\"softmax\"))"
      ],
      "metadata": {
        "id": "gGfSO-kayW2M"
      },
      "execution_count": 13,
      "outputs": []
    },
    {
      "cell_type": "code",
      "source": [
        "model.summary()"
      ],
      "metadata": {
        "colab": {
          "base_uri": "https://localhost:8080/"
        },
        "id": "3yBs0hPJyec_",
        "outputId": "304051ce-1204-4889-e93d-a35be41b1581"
      },
      "execution_count": 14,
      "outputs": [
        {
          "output_type": "stream",
          "name": "stdout",
          "text": [
            "Model: \"sequential\"\n",
            "_________________________________________________________________\n",
            " Layer (type)                Output Shape              Param #   \n",
            "=================================================================\n",
            " embedding (Embedding)       (None, 1, 10)             26170     \n",
            "                                                                 \n",
            " lstm (LSTM)                 (None, 1, 1000)           4044000   \n",
            "                                                                 \n",
            " lstm_1 (LSTM)               (None, 1000)              8004000   \n",
            "                                                                 \n",
            " dense (Dense)               (None, 1000)              1001000   \n",
            "                                                                 \n",
            " dense_1 (Dense)             (None, 2617)              2619617   \n",
            "                                                                 \n",
            "=================================================================\n",
            "Total params: 15,694,787\n",
            "Trainable params: 15,694,787\n",
            "Non-trainable params: 0\n",
            "_________________________________________________________________\n"
          ]
        }
      ]
    },
    {
      "cell_type": "markdown",
      "source": [
        "#Plot the Model:"
      ],
      "metadata": {
        "id": "4sjqIi34yivn"
      }
    },
    {
      "cell_type": "code",
      "source": [
        "from tensorflow import keras\n",
        "from keras.utils.vis_utils import plot_model\n",
        "\n",
        "keras.utils.plot_model(model, to_file='model.png', show_layer_names=True)"
      ],
      "metadata": {
        "colab": {
          "base_uri": "https://localhost:8080/",
          "height": 564
        },
        "id": "7iiywit_yhTd",
        "outputId": "bd36da77-938f-425f-e0c9-601360531e7f"
      },
      "execution_count": 15,
      "outputs": [
        {
          "output_type": "execute_result",
          "data": {
            "image/png": "[encoded data removed]",
            "text/plain": [
              "<IPython.core.display.Image object>"
            ]
          },
          "metadata": {},
          "execution_count": 15
        }
      ]
    },
    {
      "cell_type": "markdown",
      "source": [
        "#Callbacks:"
      ],
      "metadata": {
        "id": "HfapMfA7yphU"
      }
    },
    {
      "cell_type": "code",
      "source": [
        "from tensorflow.keras.callbacks import ModelCheckpoint\n",
        "from tensorflow.keras.callbacks import ReduceLROnPlateau\n",
        "from tensorflow.keras.callbacks import TensorBoard\n",
        "\n",
        "checkpoint = ModelCheckpoint(\"nextword1.h5\", monitor='loss', verbose=1,\n",
        "    save_best_only=True, mode='auto')\n",
        "\n",
        "reduce = ReduceLROnPlateau(monitor='loss', factor=0.2, patience=3, min_lr=0.0001, verbose = 1)\n",
        "\n",
        "logdir='logsnextword1'\n",
        "tensorboard_Visualization = TensorBoard(log_dir=logdir)"
      ],
      "metadata": {
        "id": "7TA2HcPTynDL"
      },
      "execution_count": 16,
      "outputs": []
    },
    {
      "cell_type": "markdown",
      "source": [
        "#Compile the Model"
      ],
      "metadata": {
        "id": "6r9bRcFwywg1"
      }
    },
    {
      "cell_type": "code",
      "source": [
        "model.compile(loss=\"categorical_crossentropy\", optimizer=Adam(lr=0.001))"
      ],
      "metadata": {
        "colab": {
          "base_uri": "https://localhost:8080/"
        },
        "id": "ZBmLIDrdytS6",
        "outputId": "7f3fbae6-31c9-4602-a2d4-ad3db2459988"
      },
      "execution_count": 17,
      "outputs": [
        {
          "output_type": "stream",
          "name": "stderr",
          "text": [
            "/usr/local/lib/python3.7/dist-packages/keras/optimizer_v2/adam.py:105: UserWarning: The `lr` argument is deprecated, use `learning_rate` instead.\n",
            "  super(Adam, self).__init__(name, **kwargs)\n"
          ]
        }
      ]
    },
    {
      "cell_type": "markdown",
      "source": [
        "#Fit the Model"
      ],
      "metadata": {
        "id": "0KjEOi-ozFqV"
      }
    },
    {
      "cell_type": "code",
      "source": [
        "model.fit(X, y, epochs=150, batch_size=64, callbacks=[checkpoint, reduce, tensorboard_Visualization])"
      ],
      "metadata": {
        "colab": {
          "base_uri": "https://localhost:8080/"
        },
        "id": "vQ81sY0zy0m0",
        "outputId": "cff86756-0c81-4885-ba0d-795a46537ab8"
      },
      "execution_count": 18,
      "outputs": [
        {
          "output_type": "stream",
          "name": "stdout",
          "text": [
            "Epoch 1/150\n",
            "61/61 [==============================] - ETA: 0s - loss: 7.8756\n",
            "Epoch 1: loss improved from inf to 7.87555, saving model to nextword1.h5\n",
            "61/61 [==============================] - 22s 267ms/step - loss: 7.8756 - lr: 0.0010\n",
            "Epoch 2/150\n",
            "61/61 [==============================] - ETA: 0s - loss: 7.8640\n",
            "Epoch 2: loss improved from 7.87555 to 7.86402, saving model to nextword1.h5\n",
            "61/61 [==============================] - 15s 249ms/step - loss: 7.8640 - lr: 0.0010\n",
            "Epoch 3/150\n",
            "61/61 [==============================] - ETA: 0s - loss: 7.8196\n",
            "Epoch 3: loss improved from 7.86402 to 7.81963, saving model to nextword1.h5\n",
            "61/61 [==============================] - 15s 241ms/step - loss: 7.8196 - lr: 0.0010\n",
            "Epoch 4/150\n",
            "61/61 [==============================] - ETA: 0s - loss: 7.6450\n",
            "Epoch 4: loss improved from 7.81963 to 7.64497, saving model to nextword1.h5\n",
            "61/61 [==============================] - 16s 263ms/step - loss: 7.6450 - lr: 0.0010\n",
            "Epoch 5/150\n",
            "61/61 [==============================] - ETA: 0s - loss: 7.4241\n",
            "Epoch 5: loss improved from 7.64497 to 7.42407, saving model to nextword1.h5\n",
            "61/61 [==============================] - 15s 244ms/step - loss: 7.4241 - lr: 0.0010\n",
            "Epoch 6/150\n",
            "61/61 [==============================] - ETA: 0s - loss: 7.2568\n",
            "Epoch 6: loss improved from 7.42407 to 7.25684, saving model to nextword1.h5\n",
            "61/61 [==============================] - 15s 244ms/step - loss: 7.2568 - lr: 0.0010\n",
            "Epoch 7/150\n",
            "61/61 [==============================] - ETA: 0s - loss: 7.1519\n",
            "Epoch 7: loss improved from 7.25684 to 7.15193, saving model to nextword1.h5\n",
            "61/61 [==============================] - 15s 249ms/step - loss: 7.1519 - lr: 0.0010\n",
            "Epoch 8/150\n",
            "61/61 [==============================] - ETA: 0s - loss: 7.0727\n",
            "Epoch 8: loss improved from 7.15193 to 7.07268, saving model to nextword1.h5\n",
            "61/61 [==============================] - 15s 246ms/step - loss: 7.0727 - lr: 0.0010\n",
            "Epoch 9/150\n",
            "61/61 [==============================] - ETA: 0s - loss: 7.0011\n",
            "Epoch 9: loss improved from 7.07268 to 7.00111, saving model to nextword1.h5\n",
            "61/61 [==============================] - 15s 251ms/step - loss: 7.0011 - lr: 0.0010\n",
            "Epoch 10/150\n",
            "61/61 [==============================] - ETA: 0s - loss: 6.9133\n",
            "Epoch 10: loss improved from 7.00111 to 6.91326, saving model to nextword1.h5\n",
            "61/61 [==============================] - 15s 246ms/step - loss: 6.9133 - lr: 0.0010\n",
            "Epoch 11/150\n",
            "61/61 [==============================] - ETA: 0s - loss: 6.8025\n",
            "Epoch 11: loss improved from 6.91326 to 6.80253, saving model to nextword1.h5\n",
            "61/61 [==============================] - 15s 244ms/step - loss: 6.8025 - lr: 0.0010\n",
            "Epoch 12/150\n",
            "61/61 [==============================] - ETA: 0s - loss: 6.6563\n",
            "Epoch 12: loss improved from 6.80253 to 6.65634, saving model to nextword1.h5\n",
            "61/61 [==============================] - 15s 244ms/step - loss: 6.6563 - lr: 0.0010\n",
            "Epoch 13/150\n",
            "61/61 [==============================] - ETA: 0s - loss: 6.4557\n",
            "Epoch 13: loss improved from 6.65634 to 6.45567, saving model to nextword1.h5\n",
            "61/61 [==============================] - 18s 297ms/step - loss: 6.4557 - lr: 0.0010\n",
            "Epoch 14/150\n",
            "61/61 [==============================] - ETA: 0s - loss: 6.2444\n",
            "Epoch 14: loss improved from 6.45567 to 6.24437, saving model to nextword1.h5\n",
            "61/61 [==============================] - 16s 262ms/step - loss: 6.2444 - lr: 0.0010\n",
            "Epoch 15/150\n",
            "61/61 [==============================] - ETA: 0s - loss: 6.0566\n",
            "Epoch 15: loss improved from 6.24437 to 6.05658, saving model to nextword1.h5\n",
            "61/61 [==============================] - 17s 279ms/step - loss: 6.0566 - lr: 0.0010\n",
            "Epoch 16/150\n",
            "61/61 [==============================] - ETA: 0s - loss: 5.8743\n",
            "Epoch 16: loss improved from 6.05658 to 5.87433, saving model to nextword1.h5\n",
            "61/61 [==============================] - 16s 257ms/step - loss: 5.8743 - lr: 0.0010\n",
            "Epoch 17/150\n",
            "61/61 [==============================] - ETA: 0s - loss: 5.6854\n",
            "Epoch 17: loss improved from 5.87433 to 5.68540, saving model to nextword1.h5\n",
            "61/61 [==============================] - 16s 269ms/step - loss: 5.6854 - lr: 0.0010\n",
            "Epoch 18/150\n",
            "61/61 [==============================] - ETA: 0s - loss: 5.5305\n",
            "Epoch 18: loss improved from 5.68540 to 5.53053, saving model to nextword1.h5\n",
            "61/61 [==============================] - 16s 255ms/step - loss: 5.5305 - lr: 0.0010\n",
            "Epoch 19/150\n",
            "61/61 [==============================] - ETA: 0s - loss: 5.3698\n",
            "Epoch 19: loss improved from 5.53053 to 5.36982, saving model to nextword1.h5\n",
            "61/61 [==============================] - 16s 268ms/step - loss: 5.3698 - lr: 0.0010\n",
            "Epoch 20/150\n",
            "61/61 [==============================] - ETA: 0s - loss: 5.2318\n",
            "Epoch 20: loss improved from 5.36982 to 5.23176, saving model to nextword1.h5\n",
            "61/61 [==============================] - 15s 254ms/step - loss: 5.2318 - lr: 0.0010\n",
            "Epoch 21/150\n",
            "61/61 [==============================] - ETA: 0s - loss: 5.1077\n",
            "Epoch 21: loss improved from 5.23176 to 5.10772, saving model to nextword1.h5\n",
            "61/61 [==============================] - 16s 257ms/step - loss: 5.1077 - lr: 0.0010\n",
            "Epoch 22/150\n",
            "61/61 [==============================] - ETA: 0s - loss: 5.0086\n",
            "Epoch 22: loss improved from 5.10772 to 5.00856, saving model to nextword1.h5\n",
            "61/61 [==============================] - 16s 259ms/step - loss: 5.0086 - lr: 0.0010\n",
            "Epoch 23/150\n",
            "61/61 [==============================] - ETA: 0s - loss: 4.9061\n",
            "Epoch 23: loss improved from 5.00856 to 4.90614, saving model to nextword1.h5\n",
            "61/61 [==============================] - 16s 267ms/step - loss: 4.9061 - lr: 0.0010\n",
            "Epoch 24/150\n",
            "61/61 [==============================] - ETA: 0s - loss: 4.8051\n",
            "Epoch 24: loss improved from 4.90614 to 4.80515, saving model to nextword1.h5\n",
            "61/61 [==============================] - 16s 257ms/step - loss: 4.8051 - lr: 0.0010\n",
            "Epoch 25/150\n",
            "61/61 [==============================] - ETA: 0s - loss: 4.7375\n",
            "Epoch 25: loss improved from 4.80515 to 4.73754, saving model to nextword1.h5\n",
            "61/61 [==============================] - 17s 272ms/step - loss: 4.7375 - lr: 0.0010\n",
            "Epoch 26/150\n",
            "61/61 [==============================] - ETA: 0s - loss: 4.6381\n",
            "Epoch 26: loss improved from 4.73754 to 4.63809, saving model to nextword1.h5\n",
            "61/61 [==============================] - 16s 258ms/step - loss: 4.6381 - lr: 0.0010\n",
            "Epoch 27/150\n",
            "61/61 [==============================] - ETA: 0s - loss: 4.5571\n",
            "Epoch 27: loss improved from 4.63809 to 4.55713, saving model to nextword1.h5\n",
            "61/61 [==============================] - 15s 241ms/step - loss: 4.5571 - lr: 0.0010\n",
            "Epoch 28/150\n",
            "61/61 [==============================] - ETA: 0s - loss: 4.4753\n",
            "Epoch 28: loss improved from 4.55713 to 4.47533, saving model to nextword1.h5\n",
            "61/61 [==============================] - 15s 252ms/step - loss: 4.4753 - lr: 0.0010\n",
            "Epoch 29/150\n",
            "61/61 [==============================] - ETA: 0s - loss: 4.4274\n",
            "Epoch 29: loss improved from 4.47533 to 4.42740, saving model to nextword1.h5\n",
            "61/61 [==============================] - 15s 248ms/step - loss: 4.4274 - lr: 0.0010\n",
            "Epoch 30/150\n",
            "61/61 [==============================] - ETA: 0s - loss: 4.3689\n",
            "Epoch 30: loss improved from 4.42740 to 4.36893, saving model to nextword1.h5\n",
            "61/61 [==============================] - 16s 256ms/step - loss: 4.3689 - lr: 0.0010\n",
            "Epoch 31/150\n",
            "61/61 [==============================] - ETA: 0s - loss: 4.3051\n",
            "Epoch 31: loss improved from 4.36893 to 4.30506, saving model to nextword1.h5\n",
            "61/61 [==============================] - 15s 250ms/step - loss: 4.3051 - lr: 0.0010\n",
            "Epoch 32/150\n",
            "61/61 [==============================] - ETA: 0s - loss: 4.2433\n",
            "Epoch 32: loss improved from 4.30506 to 4.24327, saving model to nextword1.h5\n",
            "61/61 [==============================] - 16s 262ms/step - loss: 4.2433 - lr: 0.0010\n",
            "Epoch 33/150\n",
            "61/61 [==============================] - ETA: 0s - loss: 4.1542\n",
            "Epoch 33: loss improved from 4.24327 to 4.15425, saving model to nextword1.h5\n",
            "61/61 [==============================] - 16s 255ms/step - loss: 4.1542 - lr: 0.0010\n",
            "Epoch 34/150\n",
            "61/61 [==============================] - ETA: 0s - loss: 4.0888\n",
            "Epoch 34: loss improved from 4.15425 to 4.08883, saving model to nextword1.h5\n",
            "61/61 [==============================] - 16s 256ms/step - loss: 4.0888 - lr: 0.0010\n",
            "Epoch 35/150\n",
            "61/61 [==============================] - ETA: 0s - loss: 4.0104\n",
            "Epoch 35: loss improved from 4.08883 to 4.01035, saving model to nextword1.h5\n",
            "61/61 [==============================] - 17s 272ms/step - loss: 4.0104 - lr: 0.0010\n",
            "Epoch 36/150\n",
            "61/61 [==============================] - ETA: 0s - loss: 3.9461\n",
            "Epoch 36: loss improved from 4.01035 to 3.94606, saving model to nextword1.h5\n",
            "61/61 [==============================] - 15s 241ms/step - loss: 3.9461 - lr: 0.0010\n",
            "Epoch 37/150\n",
            "61/61 [==============================] - ETA: 0s - loss: 3.9037\n",
            "Epoch 37: loss improved from 3.94606 to 3.90375, saving model to nextword1.h5\n",
            "61/61 [==============================] - 15s 240ms/step - loss: 3.9037 - lr: 0.0010\n",
            "Epoch 38/150\n",
            "61/61 [==============================] - ETA: 0s - loss: 3.8148\n",
            "Epoch 38: loss improved from 3.90375 to 3.81476, saving model to nextword1.h5\n",
            "61/61 [==============================] - 15s 252ms/step - loss: 3.8148 - lr: 0.0010\n",
            "Epoch 39/150\n",
            "61/61 [==============================] - ETA: 0s - loss: 3.7383\n",
            "Epoch 39: loss improved from 3.81476 to 3.73826, saving model to nextword1.h5\n",
            "61/61 [==============================] - 15s 239ms/step - loss: 3.7383 - lr: 0.0010\n",
            "Epoch 40/150\n",
            "61/61 [==============================] - ETA: 0s - loss: 3.6300\n",
            "Epoch 40: loss improved from 3.73826 to 3.62996, saving model to nextword1.h5\n",
            "61/61 [==============================] - 16s 260ms/step - loss: 3.6300 - lr: 0.0010\n",
            "Epoch 41/150\n",
            "61/61 [==============================] - ETA: 0s - loss: 3.5269\n",
            "Epoch 41: loss improved from 3.62996 to 3.52693, saving model to nextword1.h5\n",
            "61/61 [==============================] - 15s 250ms/step - loss: 3.5269 - lr: 0.0010\n",
            "Epoch 42/150\n",
            "61/61 [==============================] - ETA: 0s - loss: 3.4399\n",
            "Epoch 42: loss improved from 3.52693 to 3.43987, saving model to nextword1.h5\n",
            "61/61 [==============================] - 15s 244ms/step - loss: 3.4399 - lr: 0.0010\n",
            "Epoch 43/150\n",
            "61/61 [==============================] - ETA: 0s - loss: 3.3576\n",
            "Epoch 43: loss improved from 3.43987 to 3.35757, saving model to nextword1.h5\n",
            "61/61 [==============================] - 16s 259ms/step - loss: 3.3576 - lr: 0.0010\n",
            "Epoch 44/150\n",
            "61/61 [==============================] - ETA: 0s - loss: 3.2913\n",
            "Epoch 44: loss improved from 3.35757 to 3.29131, saving model to nextword1.h5\n",
            "61/61 [==============================] - 15s 253ms/step - loss: 3.2913 - lr: 0.0010\n",
            "Epoch 45/150\n",
            "61/61 [==============================] - ETA: 0s - loss: 3.1661\n",
            "Epoch 45: loss improved from 3.29131 to 3.16609, saving model to nextword1.h5\n",
            "61/61 [==============================] - 15s 252ms/step - loss: 3.1661 - lr: 0.0010\n",
            "Epoch 46/150\n",
            "61/61 [==============================] - ETA: 0s - loss: 3.0811\n",
            "Epoch 46: loss improved from 3.16609 to 3.08112, saving model to nextword1.h5\n",
            "61/61 [==============================] - 16s 264ms/step - loss: 3.0811 - lr: 0.0010\n",
            "Epoch 47/150\n",
            "61/61 [==============================] - ETA: 0s - loss: 3.0376\n",
            "Epoch 47: loss improved from 3.08112 to 3.03759, saving model to nextword1.h5\n",
            "61/61 [==============================] - 15s 238ms/step - loss: 3.0376 - lr: 0.0010\n",
            "Epoch 48/150\n",
            "61/61 [==============================] - ETA: 0s - loss: 2.9577\n",
            "Epoch 48: loss improved from 3.03759 to 2.95772, saving model to nextword1.h5\n",
            "61/61 [==============================] - 15s 251ms/step - loss: 2.9577 - lr: 0.0010\n",
            "Epoch 49/150\n",
            "61/61 [==============================] - ETA: 0s - loss: 2.8594\n",
            "Epoch 49: loss improved from 2.95772 to 2.85940, saving model to nextword1.h5\n",
            "61/61 [==============================] - 15s 241ms/step - loss: 2.8594 - lr: 0.0010\n",
            "Epoch 50/150\n",
            "61/61 [==============================] - ETA: 0s - loss: 2.7766\n",
            "Epoch 50: loss improved from 2.85940 to 2.77663, saving model to nextword1.h5\n",
            "61/61 [==============================] - 15s 245ms/step - loss: 2.7766 - lr: 0.0010\n",
            "Epoch 51/150\n",
            "61/61 [==============================] - ETA: 0s - loss: 2.7028\n",
            "Epoch 51: loss improved from 2.77663 to 2.70282, saving model to nextword1.h5\n",
            "61/61 [==============================] - 15s 253ms/step - loss: 2.7028 - lr: 0.0010\n",
            "Epoch 52/150\n",
            "61/61 [==============================] - ETA: 0s - loss: 2.6228\n",
            "Epoch 52: loss improved from 2.70282 to 2.62277, saving model to nextword1.h5\n",
            "61/61 [==============================] - 17s 287ms/step - loss: 2.6228 - lr: 0.0010\n",
            "Epoch 53/150\n",
            "61/61 [==============================] - ETA: 0s - loss: 2.5810\n",
            "Epoch 53: loss improved from 2.62277 to 2.58095, saving model to nextword1.h5\n",
            "61/61 [==============================] - 15s 249ms/step - loss: 2.5810 - lr: 0.0010\n",
            "Epoch 54/150\n",
            "61/61 [==============================] - ETA: 0s - loss: 2.5404\n",
            "Epoch 54: loss improved from 2.58095 to 2.54036, saving model to nextword1.h5\n",
            "61/61 [==============================] - 16s 268ms/step - loss: 2.5404 - lr: 0.0010\n",
            "Epoch 55/150\n",
            "61/61 [==============================] - ETA: 0s - loss: 2.4520\n",
            "Epoch 55: loss improved from 2.54036 to 2.45199, saving model to nextword1.h5\n",
            "61/61 [==============================] - 15s 253ms/step - loss: 2.4520 - lr: 0.0010\n",
            "Epoch 56/150\n",
            "61/61 [==============================] - ETA: 0s - loss: 2.3744\n",
            "Epoch 56: loss improved from 2.45199 to 2.37440, saving model to nextword1.h5\n",
            "61/61 [==============================] - 16s 261ms/step - loss: 2.3744 - lr: 0.0010\n",
            "Epoch 57/150\n",
            "61/61 [==============================] - ETA: 0s - loss: 2.3328\n",
            "Epoch 57: loss improved from 2.37440 to 2.33280, saving model to nextword1.h5\n",
            "61/61 [==============================] - 16s 263ms/step - loss: 2.3328 - lr: 0.0010\n",
            "Epoch 58/150\n",
            "61/61 [==============================] - ETA: 0s - loss: 2.2944\n",
            "Epoch 58: loss improved from 2.33280 to 2.29443, saving model to nextword1.h5\n",
            "61/61 [==============================] - 16s 253ms/step - loss: 2.2944 - lr: 0.0010\n",
            "Epoch 59/150\n",
            "61/61 [==============================] - ETA: 0s - loss: 2.2448\n",
            "Epoch 59: loss improved from 2.29443 to 2.24476, saving model to nextword1.h5\n",
            "61/61 [==============================] - 15s 244ms/step - loss: 2.2448 - lr: 0.0010\n",
            "Epoch 60/150\n",
            "61/61 [==============================] - ETA: 0s - loss: 2.2153\n",
            "Epoch 60: loss improved from 2.24476 to 2.21525, saving model to nextword1.h5\n",
            "61/61 [==============================] - 17s 271ms/step - loss: 2.2153 - lr: 0.0010\n",
            "Epoch 61/150\n",
            "61/61 [==============================] - ETA: 0s - loss: 2.1652\n",
            "Epoch 61: loss improved from 2.21525 to 2.16523, saving model to nextword1.h5\n",
            "61/61 [==============================] - 15s 253ms/step - loss: 2.1652 - lr: 0.0010\n",
            "Epoch 62/150\n",
            "61/61 [==============================] - ETA: 0s - loss: 2.1212\n",
            "Epoch 62: loss improved from 2.16523 to 2.12116, saving model to nextword1.h5\n",
            "61/61 [==============================] - 15s 251ms/step - loss: 2.1212 - lr: 0.0010\n",
            "Epoch 63/150\n",
            "61/61 [==============================] - ETA: 0s - loss: 2.0802\n",
            "Epoch 63: loss improved from 2.12116 to 2.08023, saving model to nextword1.h5\n",
            "61/61 [==============================] - 16s 268ms/step - loss: 2.0802 - lr: 0.0010\n",
            "Epoch 64/150\n",
            "61/61 [==============================] - ETA: 0s - loss: 2.0456\n",
            "Epoch 64: loss improved from 2.08023 to 2.04562, saving model to nextword1.h5\n",
            "61/61 [==============================] - 15s 252ms/step - loss: 2.0456 - lr: 0.0010\n",
            "Epoch 65/150\n",
            "61/61 [==============================] - ETA: 0s - loss: 2.0097\n",
            "Epoch 65: loss improved from 2.04562 to 2.00972, saving model to nextword1.h5\n",
            "61/61 [==============================] - 15s 252ms/step - loss: 2.0097 - lr: 0.0010\n",
            "Epoch 66/150\n",
            "61/61 [==============================] - ETA: 0s - loss: 1.9570\n",
            "Epoch 66: loss improved from 2.00972 to 1.95705, saving model to nextword1.h5\n",
            "61/61 [==============================] - 15s 250ms/step - loss: 1.9570 - lr: 0.0010\n",
            "Epoch 67/150\n",
            "61/61 [==============================] - ETA: 0s - loss: 1.8956\n",
            "Epoch 67: loss improved from 1.95705 to 1.89559, saving model to nextword1.h5\n",
            "61/61 [==============================] - 16s 267ms/step - loss: 1.8956 - lr: 0.0010\n",
            "Epoch 68/150\n",
            "61/61 [==============================] - ETA: 0s - loss: 1.8879\n",
            "Epoch 68: loss improved from 1.89559 to 1.88792, saving model to nextword1.h5\n",
            "61/61 [==============================] - 17s 278ms/step - loss: 1.8879 - lr: 0.0010\n",
            "Epoch 69/150\n",
            "61/61 [==============================] - ETA: 0s - loss: 1.8552\n",
            "Epoch 69: loss improved from 1.88792 to 1.85518, saving model to nextword1.h5\n",
            "61/61 [==============================] - 16s 268ms/step - loss: 1.8552 - lr: 0.0010\n",
            "Epoch 70/150\n",
            "61/61 [==============================] - ETA: 0s - loss: 1.8277\n",
            "Epoch 70: loss improved from 1.85518 to 1.82766, saving model to nextword1.h5\n",
            "61/61 [==============================] - 16s 263ms/step - loss: 1.8277 - lr: 0.0010\n",
            "Epoch 71/150\n",
            "61/61 [==============================] - ETA: 0s - loss: 1.8126\n",
            "Epoch 71: loss improved from 1.82766 to 1.81262, saving model to nextword1.h5\n",
            "61/61 [==============================] - 16s 261ms/step - loss: 1.8126 - lr: 0.0010\n",
            "Epoch 72/150\n",
            "61/61 [==============================] - ETA: 0s - loss: 1.7399\n",
            "Epoch 72: loss improved from 1.81262 to 1.73987, saving model to nextword1.h5\n",
            "61/61 [==============================] - 16s 260ms/step - loss: 1.7399 - lr: 0.0010\n",
            "Epoch 73/150\n",
            "61/61 [==============================] - ETA: 0s - loss: 1.6479\n",
            "Epoch 73: loss improved from 1.73987 to 1.64786, saving model to nextword1.h5\n",
            "61/61 [==============================] - 16s 263ms/step - loss: 1.6479 - lr: 0.0010\n",
            "Epoch 74/150\n",
            "61/61 [==============================] - ETA: 0s - loss: 1.5910\n",
            "Epoch 74: loss improved from 1.64786 to 1.59095, saving model to nextword1.h5\n",
            "61/61 [==============================] - 16s 258ms/step - loss: 1.5910 - lr: 0.0010\n",
            "Epoch 75/150\n",
            "61/61 [==============================] - ETA: 0s - loss: 1.5566\n",
            "Epoch 75: loss improved from 1.59095 to 1.55661, saving model to nextword1.h5\n",
            "61/61 [==============================] - 15s 254ms/step - loss: 1.5566 - lr: 0.0010\n",
            "Epoch 76/150\n",
            "61/61 [==============================] - ETA: 0s - loss: 1.5388\n",
            "Epoch 76: loss improved from 1.55661 to 1.53877, saving model to nextword1.h5\n",
            "61/61 [==============================] - 15s 250ms/step - loss: 1.5388 - lr: 0.0010\n",
            "Epoch 77/150\n",
            "61/61 [==============================] - ETA: 0s - loss: 1.5333\n",
            "Epoch 77: loss improved from 1.53877 to 1.53329, saving model to nextword1.h5\n",
            "61/61 [==============================] - 17s 275ms/step - loss: 1.5333 - lr: 0.0010\n",
            "Epoch 78/150\n",
            "61/61 [==============================] - ETA: 0s - loss: 1.4961\n",
            "Epoch 78: loss improved from 1.53329 to 1.49608, saving model to nextword1.h5\n",
            "61/61 [==============================] - 15s 251ms/step - loss: 1.4961 - lr: 0.0010\n",
            "Epoch 79/150\n",
            "61/61 [==============================] - ETA: 0s - loss: 1.4790\n",
            "Epoch 79: loss improved from 1.49608 to 1.47896, saving model to nextword1.h5\n",
            "61/61 [==============================] - 16s 257ms/step - loss: 1.4790 - lr: 0.0010\n",
            "Epoch 80/150\n",
            "61/61 [==============================] - ETA: 0s - loss: 1.4432\n",
            "Epoch 80: loss improved from 1.47896 to 1.44322, saving model to nextword1.h5\n",
            "61/61 [==============================] - 15s 251ms/step - loss: 1.4432 - lr: 0.0010\n",
            "Epoch 81/150\n",
            "61/61 [==============================] - ETA: 0s - loss: 1.4296\n",
            "Epoch 81: loss improved from 1.44322 to 1.42961, saving model to nextword1.h5\n",
            "61/61 [==============================] - 15s 252ms/step - loss: 1.4296 - lr: 0.0010\n",
            "Epoch 82/150\n",
            "61/61 [==============================] - ETA: 0s - loss: 1.4009\n",
            "Epoch 82: loss improved from 1.42961 to 1.40092, saving model to nextword1.h5\n",
            "61/61 [==============================] - 15s 253ms/step - loss: 1.4009 - lr: 0.0010\n",
            "Epoch 83/150\n",
            "61/61 [==============================] - ETA: 0s - loss: 1.3981\n",
            "Epoch 83: loss improved from 1.40092 to 1.39811, saving model to nextword1.h5\n",
            "61/61 [==============================] - 16s 269ms/step - loss: 1.3981 - lr: 0.0010\n",
            "Epoch 84/150\n",
            "61/61 [==============================] - ETA: 0s - loss: 1.3558\n",
            "Epoch 84: loss improved from 1.39811 to 1.35576, saving model to nextword1.h5\n",
            "61/61 [==============================] - 16s 255ms/step - loss: 1.3558 - lr: 0.0010\n",
            "Epoch 85/150\n",
            "61/61 [==============================] - ETA: 0s - loss: 1.3364\n",
            "Epoch 85: loss improved from 1.35576 to 1.33641, saving model to nextword1.h5\n",
            "61/61 [==============================] - 15s 249ms/step - loss: 1.3364 - lr: 0.0010\n",
            "Epoch 86/150\n",
            "61/61 [==============================] - ETA: 0s - loss: 1.3309\n",
            "Epoch 86: loss improved from 1.33641 to 1.33094, saving model to nextword1.h5\n",
            "61/61 [==============================] - 16s 255ms/step - loss: 1.3309 - lr: 0.0010\n",
            "Epoch 87/150\n",
            "61/61 [==============================] - ETA: 0s - loss: 1.3162\n",
            "Epoch 87: loss improved from 1.33094 to 1.31620, saving model to nextword1.h5\n",
            "61/61 [==============================] - 17s 285ms/step - loss: 1.3162 - lr: 0.0010\n",
            "Epoch 88/150\n",
            "61/61 [==============================] - ETA: 0s - loss: 1.2946\n",
            "Epoch 88: loss improved from 1.31620 to 1.29462, saving model to nextword1.h5\n",
            "61/61 [==============================] - 15s 249ms/step - loss: 1.2946 - lr: 0.0010\n",
            "Epoch 89/150\n",
            "61/61 [==============================] - ETA: 0s - loss: 1.2740\n",
            "Epoch 89: loss improved from 1.29462 to 1.27404, saving model to nextword1.h5\n",
            "61/61 [==============================] - 15s 251ms/step - loss: 1.2740 - lr: 0.0010\n",
            "Epoch 90/150\n",
            "61/61 [==============================] - ETA: 0s - loss: 1.2627\n",
            "Epoch 90: loss improved from 1.27404 to 1.26266, saving model to nextword1.h5\n",
            "61/61 [==============================] - 17s 285ms/step - loss: 1.2627 - lr: 0.0010\n",
            "Epoch 91/150\n",
            "61/61 [==============================] - ETA: 0s - loss: 1.2423\n",
            "Epoch 91: loss improved from 1.26266 to 1.24229, saving model to nextword1.h5\n",
            "61/61 [==============================] - 17s 270ms/step - loss: 1.2423 - lr: 0.0010\n",
            "Epoch 92/150\n",
            "61/61 [==============================] - ETA: 0s - loss: 1.2178\n",
            "Epoch 92: loss improved from 1.24229 to 1.21782, saving model to nextword1.h5\n",
            "61/61 [==============================] - 15s 252ms/step - loss: 1.2178 - lr: 0.0010\n",
            "Epoch 93/150\n",
            "61/61 [==============================] - ETA: 0s - loss: 1.2087\n",
            "Epoch 93: loss improved from 1.21782 to 1.20867, saving model to nextword1.h5\n",
            "61/61 [==============================] - 16s 265ms/step - loss: 1.2087 - lr: 0.0010\n",
            "Epoch 94/150\n",
            "61/61 [==============================] - ETA: 0s - loss: 1.2033\n",
            "Epoch 94: loss improved from 1.20867 to 1.20329, saving model to nextword1.h5\n",
            "61/61 [==============================] - 16s 260ms/step - loss: 1.2033 - lr: 0.0010\n",
            "Epoch 95/150\n",
            "61/61 [==============================] - ETA: 0s - loss: 1.1856\n",
            "Epoch 95: loss improved from 1.20329 to 1.18563, saving model to nextword1.h5\n",
            "61/61 [==============================] - 16s 254ms/step - loss: 1.1856 - lr: 0.0010\n",
            "Epoch 96/150\n",
            "61/61 [==============================] - ETA: 0s - loss: 1.1891\n",
            "Epoch 96: loss did not improve from 1.18563\n",
            "61/61 [==============================] - 15s 249ms/step - loss: 1.1891 - lr: 0.0010\n",
            "Epoch 97/150\n",
            "61/61 [==============================] - ETA: 0s - loss: 1.1929\n",
            "Epoch 97: loss did not improve from 1.18563\n",
            "61/61 [==============================] - 15s 246ms/step - loss: 1.1929 - lr: 0.0010\n",
            "Epoch 98/150\n",
            "61/61 [==============================] - ETA: 0s - loss: 1.1752\n",
            "Epoch 98: loss improved from 1.18563 to 1.17518, saving model to nextword1.h5\n",
            "61/61 [==============================] - 17s 276ms/step - loss: 1.1752 - lr: 0.0010\n",
            "Epoch 99/150\n",
            "61/61 [==============================] - ETA: 0s - loss: 1.1634\n",
            "Epoch 99: loss improved from 1.17518 to 1.16343, saving model to nextword1.h5\n",
            "61/61 [==============================] - 15s 242ms/step - loss: 1.1634 - lr: 0.0010\n",
            "Epoch 100/150\n",
            "61/61 [==============================] - ETA: 0s - loss: 1.1625\n",
            "Epoch 100: loss improved from 1.16343 to 1.16254, saving model to nextword1.h5\n",
            "61/61 [==============================] - 17s 274ms/step - loss: 1.1625 - lr: 0.0010\n",
            "Epoch 101/150\n",
            "61/61 [==============================] - ETA: 0s - loss: 1.1540\n",
            "Epoch 101: loss improved from 1.16254 to 1.15403, saving model to nextword1.h5\n",
            "61/61 [==============================] - 16s 261ms/step - loss: 1.1540 - lr: 0.0010\n",
            "Epoch 102/150\n",
            "61/61 [==============================] - ETA: 0s - loss: 1.1464\n",
            "Epoch 102: loss improved from 1.15403 to 1.14640, saving model to nextword1.h5\n",
            "61/61 [==============================] - 15s 250ms/step - loss: 1.1464 - lr: 0.0010\n",
            "Epoch 103/150\n",
            "61/61 [==============================] - ETA: 0s - loss: 1.1722\n",
            "Epoch 103: loss did not improve from 1.14640\n",
            "61/61 [==============================] - 16s 263ms/step - loss: 1.1722 - lr: 0.0010\n",
            "Epoch 104/150\n",
            "61/61 [==============================] - ETA: 0s - loss: 1.1910\n",
            "Epoch 104: loss did not improve from 1.14640\n",
            "61/61 [==============================] - 15s 238ms/step - loss: 1.1910 - lr: 0.0010\n",
            "Epoch 105/150\n",
            "61/61 [==============================] - ETA: 0s - loss: 1.1606\n",
            "Epoch 105: loss did not improve from 1.14640\n",
            "\n",
            "Epoch 105: ReduceLROnPlateau reducing learning rate to 0.00020000000949949026.\n",
            "61/61 [==============================] - 15s 253ms/step - loss: 1.1606 - lr: 0.0010\n",
            "Epoch 106/150\n",
            "61/61 [==============================] - ETA: 0s - loss: 0.8836\n",
            "Epoch 106: loss improved from 1.14640 to 0.88362, saving model to nextword1.h5\n",
            "61/61 [==============================] - 17s 273ms/step - loss: 0.8836 - lr: 2.0000e-04\n",
            "Epoch 107/150\n",
            "61/61 [==============================] - ETA: 0s - loss: 0.7756\n",
            "Epoch 107: loss improved from 0.88362 to 0.77557, saving model to nextword1.h5\n",
            "61/61 [==============================] - 17s 276ms/step - loss: 0.7756 - lr: 2.0000e-04\n",
            "Epoch 108/150\n",
            "61/61 [==============================] - ETA: 0s - loss: 0.7414\n",
            "Epoch 108: loss improved from 0.77557 to 0.74136, saving model to nextword1.h5\n",
            "61/61 [==============================] - 17s 280ms/step - loss: 0.7414 - lr: 2.0000e-04\n",
            "Epoch 109/150\n",
            "61/61 [==============================] - ETA: 0s - loss: 0.7261\n",
            "Epoch 109: loss improved from 0.74136 to 0.72610, saving model to nextword1.h5\n",
            "61/61 [==============================] - 16s 259ms/step - loss: 0.7261 - lr: 2.0000e-04\n",
            "Epoch 110/150\n",
            "61/61 [==============================] - ETA: 0s - loss: 0.7181\n",
            "Epoch 110: loss improved from 0.72610 to 0.71815, saving model to nextword1.h5\n",
            "61/61 [==============================] - 15s 253ms/step - loss: 0.7181 - lr: 2.0000e-04\n",
            "Epoch 111/150\n",
            "61/61 [==============================] - ETA: 0s - loss: 0.7112\n",
            "Epoch 111: loss improved from 0.71815 to 0.71117, saving model to nextword1.h5\n",
            "61/61 [==============================] - 16s 257ms/step - loss: 0.7112 - lr: 2.0000e-04\n",
            "Epoch 112/150\n",
            "61/61 [==============================] - ETA: 0s - loss: 0.7081\n",
            "Epoch 112: loss improved from 0.71117 to 0.70813, saving model to nextword1.h5\n",
            "61/61 [==============================] - 16s 258ms/step - loss: 0.7081 - lr: 2.0000e-04\n",
            "Epoch 113/150\n",
            "61/61 [==============================] - ETA: 0s - loss: 0.7064\n",
            "Epoch 113: loss improved from 0.70813 to 0.70645, saving model to nextword1.h5\n",
            "61/61 [==============================] - 16s 256ms/step - loss: 0.7064 - lr: 2.0000e-04\n",
            "Epoch 114/150\n",
            "61/61 [==============================] - ETA: 0s - loss: 0.7044\n",
            "Epoch 114: loss improved from 0.70645 to 0.70443, saving model to nextword1.h5\n",
            "61/61 [==============================] - 15s 252ms/step - loss: 0.7044 - lr: 2.0000e-04\n",
            "Epoch 115/150\n",
            "61/61 [==============================] - ETA: 0s - loss: 0.7016\n",
            "Epoch 115: loss improved from 0.70443 to 0.70159, saving model to nextword1.h5\n",
            "61/61 [==============================] - 16s 256ms/step - loss: 0.7016 - lr: 2.0000e-04\n",
            "Epoch 116/150\n",
            "61/61 [==============================] - ETA: 0s - loss: 0.7004\n",
            "Epoch 116: loss improved from 0.70159 to 0.70044, saving model to nextword1.h5\n",
            "61/61 [==============================] - 16s 254ms/step - loss: 0.7004 - lr: 2.0000e-04\n",
            "Epoch 117/150\n",
            "61/61 [==============================] - ETA: 0s - loss: 0.6998\n",
            "Epoch 117: loss improved from 0.70044 to 0.69979, saving model to nextword1.h5\n",
            "61/61 [==============================] - 16s 255ms/step - loss: 0.6998 - lr: 2.0000e-04\n",
            "Epoch 118/150\n",
            "61/61 [==============================] - ETA: 0s - loss: 0.6969\n",
            "Epoch 118: loss improved from 0.69979 to 0.69687, saving model to nextword1.h5\n",
            "61/61 [==============================] - 17s 283ms/step - loss: 0.6969 - lr: 2.0000e-04\n",
            "Epoch 119/150\n",
            "61/61 [==============================] - ETA: 0s - loss: 0.6989\n",
            "Epoch 119: loss did not improve from 0.69687\n",
            "61/61 [==============================] - 15s 251ms/step - loss: 0.6989 - lr: 2.0000e-04\n",
            "Epoch 120/150\n",
            "61/61 [==============================] - ETA: 0s - loss: 0.6947\n",
            "Epoch 120: loss improved from 0.69687 to 0.69474, saving model to nextword1.h5\n",
            "61/61 [==============================] - 16s 261ms/step - loss: 0.6947 - lr: 2.0000e-04\n",
            "Epoch 121/150\n",
            "61/61 [==============================] - ETA: 0s - loss: 0.6957\n",
            "Epoch 121: loss did not improve from 0.69474\n",
            "61/61 [==============================] - 16s 256ms/step - loss: 0.6957 - lr: 2.0000e-04\n",
            "Epoch 122/150\n",
            "61/61 [==============================] - ETA: 0s - loss: 0.6934\n",
            "Epoch 122: loss improved from 0.69474 to 0.69340, saving model to nextword1.h5\n",
            "61/61 [==============================] - 16s 257ms/step - loss: 0.6934 - lr: 2.0000e-04\n",
            "Epoch 123/150\n",
            "61/61 [==============================] - ETA: 0s - loss: 0.6925\n",
            "Epoch 123: loss improved from 0.69340 to 0.69252, saving model to nextword1.h5\n",
            "61/61 [==============================] - 17s 275ms/step - loss: 0.6925 - lr: 2.0000e-04\n",
            "Epoch 124/150\n",
            "61/61 [==============================] - ETA: 0s - loss: 0.6937\n",
            "Epoch 124: loss did not improve from 0.69252\n",
            "61/61 [==============================] - 15s 251ms/step - loss: 0.6937 - lr: 2.0000e-04\n",
            "Epoch 125/150\n",
            "61/61 [==============================] - ETA: 0s - loss: 0.6949\n",
            "Epoch 125: loss did not improve from 0.69252\n",
            "61/61 [==============================] - 15s 248ms/step - loss: 0.6949 - lr: 2.0000e-04\n",
            "Epoch 126/150\n",
            "61/61 [==============================] - ETA: 0s - loss: 0.6914\n",
            "Epoch 126: loss improved from 0.69252 to 0.69141, saving model to nextword1.h5\n",
            "61/61 [==============================] - 15s 245ms/step - loss: 0.6914 - lr: 2.0000e-04\n",
            "Epoch 127/150\n",
            "61/61 [==============================] - ETA: 0s - loss: 0.6907\n",
            "Epoch 127: loss improved from 0.69141 to 0.69065, saving model to nextword1.h5\n",
            "61/61 [==============================] - 16s 271ms/step - loss: 0.6907 - lr: 2.0000e-04\n",
            "Epoch 128/150\n",
            "61/61 [==============================] - ETA: 0s - loss: 0.6925\n",
            "Epoch 128: loss did not improve from 0.69065\n",
            "61/61 [==============================] - 17s 276ms/step - loss: 0.6925 - lr: 2.0000e-04\n",
            "Epoch 129/150\n",
            "61/61 [==============================] - ETA: 0s - loss: 0.6917\n",
            "Epoch 129: loss did not improve from 0.69065\n",
            "61/61 [==============================] - 18s 299ms/step - loss: 0.6917 - lr: 2.0000e-04\n",
            "Epoch 130/150\n",
            "61/61 [==============================] - ETA: 0s - loss: 0.6899\n",
            "Epoch 130: loss improved from 0.69065 to 0.68989, saving model to nextword1.h5\n",
            "61/61 [==============================] - 17s 277ms/step - loss: 0.6899 - lr: 2.0000e-04\n",
            "Epoch 131/150\n",
            "61/61 [==============================] - ETA: 0s - loss: 0.6898\n",
            "Epoch 131: loss improved from 0.68989 to 0.68978, saving model to nextword1.h5\n",
            "61/61 [==============================] - 16s 262ms/step - loss: 0.6898 - lr: 2.0000e-04\n",
            "Epoch 132/150\n",
            "61/61 [==============================] - ETA: 0s - loss: 0.6879\n",
            "Epoch 132: loss improved from 0.68978 to 0.68794, saving model to nextword1.h5\n",
            "61/61 [==============================] - 16s 266ms/step - loss: 0.6879 - lr: 2.0000e-04\n",
            "Epoch 133/150\n",
            "61/61 [==============================] - ETA: 0s - loss: 0.6877\n",
            "Epoch 133: loss improved from 0.68794 to 0.68768, saving model to nextword1.h5\n",
            "61/61 [==============================] - 16s 268ms/step - loss: 0.6877 - lr: 2.0000e-04\n",
            "Epoch 134/150\n",
            "61/61 [==============================] - ETA: 0s - loss: 0.6868\n",
            "Epoch 134: loss improved from 0.68768 to 0.68682, saving model to nextword1.h5\n",
            "61/61 [==============================] - 15s 253ms/step - loss: 0.6868 - lr: 2.0000e-04\n",
            "Epoch 135/150\n",
            "61/61 [==============================] - ETA: 0s - loss: 0.6862\n",
            "Epoch 135: loss improved from 0.68682 to 0.68624, saving model to nextword1.h5\n",
            "61/61 [==============================] - 15s 244ms/step - loss: 0.6862 - lr: 2.0000e-04\n",
            "Epoch 136/150\n",
            "61/61 [==============================] - ETA: 0s - loss: 0.6881\n",
            "Epoch 136: loss did not improve from 0.68624\n",
            "61/61 [==============================] - 14s 231ms/step - loss: 0.6881 - lr: 2.0000e-04\n",
            "Epoch 137/150\n",
            "61/61 [==============================] - ETA: 0s - loss: 0.6872\n",
            "Epoch 137: loss did not improve from 0.68624\n",
            "61/61 [==============================] - 14s 233ms/step - loss: 0.6872 - lr: 2.0000e-04\n",
            "Epoch 138/150\n",
            "61/61 [==============================] - ETA: 0s - loss: 0.6867\n",
            "Epoch 138: loss did not improve from 0.68624\n",
            "\n",
            "Epoch 138: ReduceLROnPlateau reducing learning rate to 0.0001.\n",
            "61/61 [==============================] - 16s 257ms/step - loss: 0.6867 - lr: 2.0000e-04\n",
            "Epoch 139/150\n",
            "61/61 [==============================] - ETA: 0s - loss: 0.6416\n",
            "Epoch 139: loss improved from 0.68624 to 0.64158, saving model to nextword1.h5\n",
            "61/61 [==============================] - 15s 243ms/step - loss: 0.6416 - lr: 1.0000e-04\n",
            "Epoch 140/150\n",
            "61/61 [==============================] - ETA: 0s - loss: 0.6395\n",
            "Epoch 140: loss improved from 0.64158 to 0.63952, saving model to nextword1.h5\n",
            "61/61 [==============================] - 15s 253ms/step - loss: 0.6395 - lr: 1.0000e-04\n",
            "Epoch 141/150\n",
            "61/61 [==============================] - ETA: 0s - loss: 0.6391\n",
            "Epoch 141: loss improved from 0.63952 to 0.63911, saving model to nextword1.h5\n",
            "61/61 [==============================] - 15s 244ms/step - loss: 0.6391 - lr: 1.0000e-04\n",
            "Epoch 142/150\n",
            "61/61 [==============================] - ETA: 0s - loss: 0.6390\n",
            "Epoch 142: loss improved from 0.63911 to 0.63898, saving model to nextword1.h5\n",
            "61/61 [==============================] - 16s 255ms/step - loss: 0.6390 - lr: 1.0000e-04\n",
            "Epoch 143/150\n",
            "61/61 [==============================] - ETA: 0s - loss: 0.6385\n",
            "Epoch 143: loss improved from 0.63898 to 0.63850, saving model to nextword1.h5\n",
            "61/61 [==============================] - 15s 251ms/step - loss: 0.6385 - lr: 1.0000e-04\n",
            "Epoch 144/150\n",
            "61/61 [==============================] - ETA: 0s - loss: 0.6383\n",
            "Epoch 144: loss improved from 0.63850 to 0.63830, saving model to nextword1.h5\n",
            "61/61 [==============================] - 15s 244ms/step - loss: 0.6383 - lr: 1.0000e-04\n",
            "Epoch 145/150\n",
            "61/61 [==============================] - ETA: 0s - loss: 0.6374\n",
            "Epoch 145: loss improved from 0.63830 to 0.63742, saving model to nextword1.h5\n",
            "61/61 [==============================] - 15s 243ms/step - loss: 0.6374 - lr: 1.0000e-04\n",
            "Epoch 146/150\n",
            "61/61 [==============================] - ETA: 0s - loss: 0.6378\n",
            "Epoch 146: loss did not improve from 0.63742\n",
            "61/61 [==============================] - 14s 237ms/step - loss: 0.6378 - lr: 1.0000e-04\n",
            "Epoch 147/150\n",
            "61/61 [==============================] - ETA: 0s - loss: 0.6368\n",
            "Epoch 147: loss improved from 0.63742 to 0.63678, saving model to nextword1.h5\n",
            "61/61 [==============================] - 15s 242ms/step - loss: 0.6368 - lr: 1.0000e-04\n",
            "Epoch 148/150\n",
            "61/61 [==============================] - ETA: 0s - loss: 0.6369\n",
            "Epoch 148: loss did not improve from 0.63678\n",
            "61/61 [==============================] - 14s 232ms/step - loss: 0.6369 - lr: 1.0000e-04\n",
            "Epoch 149/150\n",
            "61/61 [==============================] - ETA: 0s - loss: 0.6369\n",
            "Epoch 149: loss did not improve from 0.63678\n",
            "61/61 [==============================] - 15s 250ms/step - loss: 0.6369 - lr: 1.0000e-04\n",
            "Epoch 150/150\n",
            "61/61 [==============================] - ETA: 0s - loss: 0.6377\n",
            "Epoch 150: loss did not improve from 0.63678\n",
            "61/61 [==============================] - 15s 248ms/step - loss: 0.6377 - lr: 1.0000e-04\n"
          ]
        },
        {
          "output_type": "execute_result",
          "data": {
            "text/plain": [
              "<keras.callbacks.History at 0x7f46a4397710>"
            ]
          },
          "metadata": {},
          "execution_count": 18
        }
      ]
    },
    {
      "cell_type": "code",
      "source": [
        "# Importing the Libraries\n",
        "\n",
        "from tensorflow.keras.models import load_model\n",
        "import numpy as np\n",
        "import pickle\n",
        "\n",
        "# Load the model and tokenizer\n",
        "\n",
        "model = load_model('nextword1.h5')\n",
        "tokenizer = pickle.load(open('tokenizer1.pkl', 'rb'))\n",
        "\n",
        "def Predict_Next_Words(model, tokenizer, text):\n",
        "    \"\"\"\n",
        "        In this function we are using the tokenizer and models trained\n",
        "        and we are creating the sequence of the text entered and then\n",
        "        using our model to predict and return the the predicted word.\n",
        "    \n",
        "    \"\"\"\n",
        "    for i in range(3):\n",
        "        sequence = tokenizer.texts_to_sequences([text])[0]\n",
        "        sequence = np.array(sequence)\n",
        "        \n",
        "        preds = model.predict_classes(sequence)\n",
        "#         print(preds)\n",
        "        predicted_word = \"\"\n",
        "        \n",
        "        for key, value in tokenizer.word_index.items():\n",
        "            if value == preds:\n",
        "                predicted_word = key\n",
        "                break\n",
        "        \n",
        "        print(predicted_word)\n",
        "        return predicted_word"
      ],
      "metadata": {
        "id": "8WlzwGYhzKsh"
      },
      "execution_count": 19,
      "outputs": []
    },
    {
      "cell_type": "code",
      "source": [
        "\"\"\"\n",
        "    We are testing our model and we will run the model\n",
        "    until the user decides to stop the script.\n",
        "    While the script is running we try and check if \n",
        "    the prediction can be made on the text. If no\n",
        "    prediction can be made we just continue.\n",
        "\n",
        "\"\"\"\n",
        "\n",
        "# text1 = \"at the dull\"\n",
        "# text2 = \"collection of textile\"\n",
        "# text3 = \"what a strenuous\"\n",
        "# text4 = \"stop the script\"\n",
        "\n",
        "while(True):\n",
        "\n",
        "    text = input(\"Enter your line: \")\n",
        "    \n",
        "    if text == \"stop the script\":\n",
        "        print(\"Ending The Program.....\")\n",
        "        break\n",
        "    \n",
        "    else:\n",
        "        try:\n",
        "            text = text.split(\" \")\n",
        "            text = text[-1]\n",
        "\n",
        "            text = ''.join(text)\n",
        "            Predict_Next_Words(model, tokenizer, text)\n",
        "            \n",
        "        except:\n",
        "            continue"
      ],
      "metadata": {
        "colab": {
          "base_uri": "https://localhost:8080/"
        },
        "id": "K4KYHx7G_csT",
        "outputId": "733b5518-e783-411b-c354-c4ca2382ef82"
      },
      "execution_count": null,
      "outputs": [
        {
          "name": "stdout",
          "output_type": "stream",
          "text": [
            "Enter your line: at the dull\n"
          ]
        }
      ]
    },
    {
      "cell_type": "code",
      "source": [],
      "metadata": {
        "id": "Tx0iTs1u_6iu"
      },
      "execution_count": null,
      "outputs": []
    }
  ],
  "metadata": {
    "colab": {
      "provenance": [],
      "authorship_tag": "ABX9TyMZIPgzZOoP8TrbZQeJ3PYn"
    },
    "kernelspec": {
      "display_name": "Python 3",
      "name": "python3"
    },
    "language_info": {
      "name": "python"
    }
  },
  "nbformat": 4,
  "nbformat_minor": 0
}